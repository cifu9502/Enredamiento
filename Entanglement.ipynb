{
 "metadata": {
  "name": ""
 },
 "nbformat": 3,
 "nbformat_minor": 0,
 "worksheets": [
  {
   "cells": [
    {
     "cell_type": "code",
     "collapsed": false,
     "input": [
      "%pylab inline"
     ],
     "language": "python",
     "metadata": {},
     "outputs": [
      {
       "output_type": "stream",
       "stream": "stdout",
       "text": [
        "Populating the interactive namespace from numpy and matplotlib\n"
       ]
      },
      {
       "output_type": "stream",
       "stream": "stderr",
       "text": [
        "WARNING: pylab import has clobbered these variables: ['f']\n",
        "`%pylab --no-import-all` prevents importing * from pylab and numpy\n"
       ]
      }
     ],
     "prompt_number": 289
    },
    {
     "cell_type": "code",
     "collapsed": false,
     "input": [
      "lamb = 1\n",
      "gam = 0\n",
      "N = 50\n",
      "def f(phi, l):\n",
      "    return exp(-1j*l*phi)*((cos(phi)-lamb-(1j*gam*sin(phi)))/abs(cos(phi)-lamb-(1j*gam*sin(phi))))\n",
      "import scipy.integrate as integ\n",
      "\n",
      "#Calcula la integral de las funciones de correlacion\n",
      "def g(l):\n",
      "    a1 = integ.quad(lambda x: f(x,l).real, 0, 2*pi)\n",
      "    a2 = integ.quad(lambda x: f(x,l).imag, 0, 2*pi)\n",
      "    return (a1[0] + 1j*a2[0])/(2*pi)\n",
      "#Calcula las matrices \\Pi\n",
      "def Pi(l):\n",
      "    a1 = zeros((2,2),dtype=complex)\n",
      "    a1[0,1] = g(l)\n",
      "    a1[1,0] = -g(-l)\n",
      "    return a1\n",
      "\n",
      "#Calcula la entrop\u00eda binaria de un valor mu\n",
      "def H2(mu):\n",
      "    if mu<= 0 or mu >= 1:\n",
      "        return 0\n",
      "    else:\n",
      "        return -(mu*log2(mu) +(1-mu)*log2(1-mu))\n",
      "\n",
      "#Calcula la matriz B de correlaciones\n",
      "B = zeros((2*N,2*N),dtype=complex)\n",
      "for i in range(0,N):\n",
      "    for j in range(0,L):\n",
      "            d = j-i\n",
      "            B[2*i:2*i+2,2*j:2*j+2] = Pi(d) \n",
      "            \n"
     ],
     "language": "python",
     "metadata": {},
     "outputs": [],
     "prompt_number": 345
    },
    {
     "cell_type": "code",
     "collapsed": false,
     "input": [
      "#Calcula la entrop\u00eda para una cadena de tama\u00f1o L\n",
      "def S(L):   \n",
      "    eigen = eig(B[:2*L,:2*L])[0]*1j\n",
      "    vu = eigen[eigen.real >0].real \n",
      "    suma = 0\n",
      "    for x in vu:\n",
      "        suma = suma + H2((1+x)/2)\n",
      "    suma\n",
      "    return suma\n",
      "\n",
      "S(2)"
     ],
     "language": "python",
     "metadata": {},
     "outputs": [
      {
       "metadata": {},
       "output_type": "pyout",
       "prompt_number": 347,
       "text": [
        "0"
       ]
      }
     ],
     "prompt_number": 347
    },
    {
     "cell_type": "code",
     "collapsed": false,
     "input": [
      "#Almacena los datos en un vector y los grafica. Se encuentra graficado para lambda = 1 y gamma = 0. Los valores dan casi\n",
      "#nulos debido a que las integrales son pr\u00e1cicamente nulas\n",
      "vec3 = []\n",
      "for L in range(1,N):\n",
      "    num = S(L)\n",
      "    vec3.append(num)\n",
      "\n",
      "\n",
      "plot(linspace(1,N,N-1), vec3, '.') \n",
      "title('$\\lambda = 1$ , $\\gamma = 0$ ')\n",
      "ylabel('S(L)')\n",
      "xlabel('L')\n"
     ],
     "language": "python",
     "metadata": {},
     "outputs": [
      {
       "metadata": {},
       "output_type": "pyout",
       "prompt_number": 350,
       "text": [
        "<matplotlib.text.Text at 0x7f90901ce850>"
       ]
      },
      {
       "metadata": {},
       "output_type": "display_data",
       "png": "[encoded data removed]",
       "text": [
        "<matplotlib.figure.Figure at 0x7f90903675d0>"
       ]
      }
     ],
     "prompt_number": 350
    },
    {
     "cell_type": "code",
     "collapsed": false,
     "input": [
      "#En situanciones anteriores se graficaron los siguientes valores para lambda = 1. \n",
      "plot(linspace(1,N,N-1), vec, 'r.', label='$\\gamma = 1$' ) \n",
      "plot(linspace(1,N,N-1), vec2, 'b.', label='$\\gamma = 0.5$')\n",
      "plot(linspace(1,N,N-1), vec3, 'y.', label='$\\gamma = 0.1$')\n",
      "legend()\n",
      "title('$\\lambda = 1$ ')\n",
      "ylabel('S(L)')\n",
      "xlabel('L')"
     ],
     "language": "python",
     "metadata": {},
     "outputs": [
      {
       "metadata": {},
       "output_type": "pyout",
       "prompt_number": 340,
       "text": [
        "<matplotlib.text.Text at 0x7f9090591790>"
       ]
      },
      {
       "metadata": {},
       "output_type": "display_data",
       "png": "[encoded data removed]",
       "text": [
        "<matplotlib.figure.Figure at 0x7f909096b910>"
       ]
      }
     ],
     "prompt_number": 340
    }
   ],
   "metadata": {}
  }
 ]
}