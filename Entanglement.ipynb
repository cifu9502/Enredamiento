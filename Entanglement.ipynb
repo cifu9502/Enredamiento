{
 "metadata": {
  "name": ""
 },
 "nbformat": 3,
 "nbformat_minor": 0,
 "worksheets": [
  {
   "cells": [
    {
     "cell_type": "code",
     "collapsed": false,
     "input": [
      "%pylab inline"
     ],
     "language": "python",
     "metadata": {},
     "outputs": [
      {
       "output_type": "stream",
       "stream": "stdout",
       "text": [
        "Populating the interactive namespace from numpy and matplotlib\n"
       ]
      },
      {
       "output_type": "stream",
       "stream": "stderr",
       "text": [
        "WARNING: pylab import has clobbered these variables: ['f']\n",
        "`%pylab --no-import-all` prevents importing * from pylab and numpy\n"
       ]
      }
     ],
     "prompt_number": 17
    },
    {
     "cell_type": "code",
     "collapsed": false,
     "input": [
      "lamb = 1\n",
      "gam = 0.5\n",
      "N = 50\n",
      "def f(phi, l):\n",
      "    return exp(-1j*l*phi)*((cos(phi)-lamb-(1j*gam*sin(phi)))/abs(cos(phi)-lamb-(1j*gam*sin(phi))))\n",
      "import scipy.integrate as integ\n",
      "\n",
      "#Calcula la integral de las funciones de correlacion\n",
      "def g(l):\n",
      "    a1 = integ.quad(lambda x: f(x,l).real, 0, 2*pi)\n",
      "    a2 = integ.quad(lambda x: f(x,l).imag, 0, 2*pi)\n",
      "    return (a1[0] + 1j*a2[0])/(2*pi)\n",
      "#Calcula las matrices \\Pi\n",
      "def Pi(l):\n",
      "    a1 = zeros((2,2),dtype=complex)\n",
      "    a1[0,1] = g(l)\n",
      "    a1[1,0] = -g(-l)\n",
      "    return a1\n",
      "\n",
      "#Calcula la entrop\u00eda binaria de un valor mu\n",
      "def H2(mu):\n",
      "    if mu<= 0 or mu >= 1:\n",
      "        return 0\n",
      "    else:\n",
      "        return -(mu*log2(mu) +(1-mu)*log2(1-mu))\n",
      "\n",
      "#Calcula la matriz B de correlaciones\n",
      "B = zeros((2*N,2*N),dtype=complex)\n",
      "for i in range(0,N):\n",
      "    for j in range(0,N):\n",
      "            d = j-i\n",
      "            B[2*i:2*i+2,2*j:2*j+2] = Pi(d) \n",
      "            \n"
     ],
     "language": "python",
     "metadata": {},
     "outputs": [],
     "prompt_number": 25
    },
    {
     "cell_type": "code",
     "collapsed": false,
     "input": [
      "#Calcula la entrop\u00eda para una cadena de tama\u00f1o L\n",
      "def S(L):   \n",
      "    eigen = eig(B[:2*L,:2*L])[0]*1j\n",
      "    vu = eigen[eigen.real >0].real \n",
      "    suma = 0\n",
      "    for x in vu:\n",
      "        suma = suma + H2((1+x)/2)\n",
      "    suma\n",
      "    return suma\n",
      "\n",
      "S(2)"
     ],
     "language": "python",
     "metadata": {},
     "outputs": [
      {
       "metadata": {},
       "output_type": "pyout",
       "prompt_number": 26,
       "text": [
        "0.68706694410934332"
       ]
      }
     ],
     "prompt_number": 26
    },
    {
     "cell_type": "code",
     "collapsed": false,
     "input": [
      "#Almacena los datos en un vector y los grafica. Se encuentra graficado para lambda = 1 y gamma = 0. Los valores dan casi\n",
      "#nulos debido a que las integrales son pr\u00e1cicamente nulas\n",
      "vec2 = []\n",
      "for L in range(1,N):\n",
      "    num = S(L)\n",
      "    vec2.append(num)\n",
      "\n",
      "\n",
      "plot(linspace(1,N,N-1), vec2, '.') \n",
      "title('$\\lambda = 1$ , $\\gamma = 0$ ')\n",
      "ylabel('S(L)')\n",
      "xlabel('L')\n"
     ],
     "language": "python",
     "metadata": {},
     "outputs": [
      {
       "metadata": {},
       "output_type": "pyout",
       "prompt_number": 28,
       "text": [
        "<matplotlib.text.Text at 0x7fe092325390>"
       ]
      },
      {
       "metadata": {},
       "output_type": "display_data",
       "png": "[encoded data removed]",
       "text": [
        "<matplotlib.figure.Figure at 0x7fe09230a710>"
       ]
      }
     ],
     "prompt_number": 28
    },
    {
     "cell_type": "code",
     "collapsed": false,
     "input": [
      "#En situanciones anteriores se graficaron los siguientes valores para lambda = 1. \n",
      "plot(linspace(1,N,N-1), vec, 'r.', label='$\\gamma = 1$' ) \n",
      "plot(linspace(1,N,N-1), vec2, 'b.', label='$\\gamma = 0.5$')\n",
      "#plot(linspace(1,N,N-1), vec3, 'y.', label='$\\gamma = 0.1$')\n",
      "legend()\n",
      "title('$\\lambda = 1$ ')\n",
      "ylabel('S(L)')\n",
      "xlabel('L')"
     ],
     "language": "python",
     "metadata": {},
     "outputs": [
      {
       "metadata": {},
       "output_type": "pyout",
       "prompt_number": 29,
       "text": [
        "<matplotlib.text.Text at 0x7fe0921f1110>"
       ]
      },
      {
       "metadata": {},
       "output_type": "display_data",
       "png": "[encoded data removed]",
       "text": [
        "<matplotlib.figure.Figure at 0x7fe097bea4d0>"
       ]
      }
     ],
     "prompt_number": 29
    },
    {
     "cell_type": "code",
     "collapsed": false,
     "input": [
      "plot(log2(linspace(1,N,N-1)), vec)"
     ],
     "language": "python",
     "metadata": {},
     "outputs": [
      {
       "metadata": {},
       "output_type": "pyout",
       "prompt_number": 9,
       "text": [
        "[<matplotlib.lines.Line2D at 0x7fe097bc0bd0>]"
       ]
      },
      {
       "metadata": {},
       "output_type": "display_data",
       "png": "[encoded data removed]",
       "text": [
        "<matplotlib.figure.Figure at 0x7fe097e4c090>"
       ]
      }
     ],
     "prompt_number": 9
    },
    {
     "cell_type": "code",
     "collapsed": false,
     "input": [
      "from scipy import stats\n",
      "slope, intercept, r_value, p_value, std_err = stats.linregress(log2(linspace(1,N,N-1)),vec)\n",
      "\n",
      "#La siguiente es la carga  central para lambda = 1, gamma = 1\n",
      "slope"
     ],
     "language": "python",
     "metadata": {},
     "outputs": [
      {
       "metadata": {},
       "output_type": "pyout",
       "prompt_number": 34,
       "text": [
        "0.16657897640870706"
       ]
      }
     ],
     "prompt_number": 34
    },
    {
     "cell_type": "code",
     "collapsed": false,
     "input": [
      "slope, intercept, r_value, p_value, std_err = stats.linregress(log2(linspace(1,N,N-1)),vec2)\n",
      "slope"
     ],
     "language": "python",
     "metadata": {},
     "outputs": [
      {
       "metadata": {},
       "output_type": "pyout",
       "prompt_number": 33,
       "text": [
        "0.16686094932667653"
       ]
      }
     ],
     "prompt_number": 33
    },
    {
     "cell_type": "code",
     "collapsed": false,
     "input": [
      "1.0/6.0"
     ],
     "language": "python",
     "metadata": {},
     "outputs": [
      {
       "metadata": {},
       "output_type": "pyout",
       "prompt_number": 36,
       "text": [
        "0.16666666666666666"
       ]
      }
     ],
     "prompt_number": 36
    },
    {
     "cell_type": "code",
     "collapsed": false,
     "input": [],
     "language": "python",
     "metadata": {},
     "outputs": []
    }
   ],
   "metadata": {}
  }
 ]
}